{
 "cells": [
  {
   "cell_type": "markdown",
   "id": "d335e642",
   "metadata": {},
   "source": [
    "# S10 T01: Aprenentage Supervisat\n",
    "### Objectius\n",
    "- Arbres de classificació\n",
    "- KNN - k-Nearest Neighbors\n",
    "- Regressió Logística\n",
    "- Support Vector Machine\n",
    "- XGboost\n",
    "\n",
    "### Sources\n"
   ]
  },
  {
   "cell_type": "markdown",
   "id": "012559e0",
   "metadata": {},
   "source": [
    "### Imports\n",
    "\n"
   ]
  },
  {
   "cell_type": "code",
   "execution_count": 1,
   "id": "4b58de1b",
   "metadata": {},
   "outputs": [],
   "source": [
    "# Yolo\n",
    "import warnings\n",
    "warnings.filterwarnings('ignore')\n",
    "\n",
    "# Scientific and Data Manipulation Libraries :\n",
    "import numpy as np\n",
    "import pandas as pd\n",
    "\n",
    "\n",
    "\n",
    "# Visualization libraries\n",
    "import matplotlib.pyplot as plt\n",
    "import seaborn as sb\n",
    "%matplotlib inline\n",
    "\n",
    "# ML Libraries\n",
    "from sklearn import metrics\n",
    "from sklearn.preprocessing import RobustScaler\n",
    "from sklearn.model_selection import train_test_split\n",
    "from sklearn.model_selection import RandomizedSearchCV\n",
    "from sklearn.model_selection import cross_val_score\n",
    "from sklearn.linear_model import LogisticRegression\n",
    "from sklearn.ensemble import RandomForestClassifier\n",
    "from sklearn import svm\n",
    "from sklearn.neural_network import MLPClassifier\n",
    "from sklearn.metrics import roc_curve, auc\n",
    "\n",
    "# Retrieve stored dataframe from previous exercise (S02_T01)\n",
    "data = pd.read_csv('C:\\\\Users\\\\motxi\\\\Documents\\\\Data_Science_IT_Academy\\\\Sprints\\\\S02\\\\DelayedFlights.csv')\n",
    "\n",
    "# Set Random seed for reproducibility\n",
    "random_state = 0"
   ]
  },
  {
   "cell_type": "markdown",
   "id": "949c0506",
   "metadata": {},
   "source": [
    "### Methods\n"
   ]
  },
  {
   "cell_type": "code",
   "execution_count": 2,
   "id": "627f0656",
   "metadata": {},
   "outputs": [],
   "source": [
    "def binarize(series):\n",
    "    binarized = np.where(series <= 0, 0, 1)\n",
    "    binary = pd.DataFrame(binarized)        \n",
    "    return binary"
   ]
  },
  {
   "cell_type": "code",
   "execution_count": 3,
   "id": "469d70d4",
   "metadata": {
    "scrolled": true
   },
   "outputs": [
    {
     "data": {
      "text/plain": [
       "Index(['Unnamed: 0', 'Year', 'Month', 'DayofMonth', 'DayOfWeek', 'DepTime',\n",
       "       'CRSDepTime', 'ArrTime', 'CRSArrTime', 'UniqueCarrier', 'FlightNum',\n",
       "       'TailNum', 'ActualElapsedTime', 'CRSElapsedTime', 'AirTime', 'ArrDelay',\n",
       "       'DepDelay', 'Origin', 'Dest', 'Distance', 'TaxiIn', 'TaxiOut',\n",
       "       'Cancelled', 'CancellationCode', 'Diverted', 'CarrierDelay',\n",
       "       'WeatherDelay', 'NASDelay', 'SecurityDelay', 'LateAircraftDelay'],\n",
       "      dtype='object')"
      ]
     },
     "execution_count": 3,
     "metadata": {},
     "output_type": "execute_result"
    }
   ],
   "source": [
    "data.columns"
   ]
  },
  {
   "cell_type": "code",
   "execution_count": 4,
   "id": "95913f29",
   "metadata": {},
   "outputs": [],
   "source": [
    "data = data.drop(['Unnamed: 0', 'Year', 'Month', 'DayofMonth', 'DayOfWeek', 'DepTime',\n",
    "       'CRSDepTime', 'ArrTime', 'CRSArrTime', 'UniqueCarrier', 'FlightNum',\n",
    "       'TailNum', 'ActualElapsedTime', 'CRSElapsedTime', \n",
    "       'Origin', 'Dest', 'TaxiIn', 'TaxiOut',\n",
    "       'CancellationCode'], axis=1)"
   ]
  },
  {
   "cell_type": "code",
   "execution_count": 5,
   "id": "64c691c7",
   "metadata": {},
   "outputs": [
    {
     "data": {
      "text/plain": [
       "AirTime                8387\n",
       "ArrDelay               8387\n",
       "DepDelay                  0\n",
       "Distance                  0\n",
       "Cancelled                 0\n",
       "Diverted                  0\n",
       "CarrierDelay         689270\n",
       "WeatherDelay         689270\n",
       "NASDelay             689270\n",
       "SecurityDelay        689270\n",
       "LateAircraftDelay    689270\n",
       "dtype: int64"
      ]
     },
     "execution_count": 5,
     "metadata": {},
     "output_type": "execute_result"
    }
   ],
   "source": [
    "data.isna().sum()"
   ]
  },
  {
   "cell_type": "code",
   "execution_count": 6,
   "id": "30bbd272",
   "metadata": {},
   "outputs": [
    {
     "data": {
      "text/plain": [
       "AirTime              0\n",
       "ArrDelay             0\n",
       "DepDelay             0\n",
       "Distance             0\n",
       "Cancelled            0\n",
       "Diverted             0\n",
       "CarrierDelay         0\n",
       "WeatherDelay         0\n",
       "NASDelay             0\n",
       "SecurityDelay        0\n",
       "LateAircraftDelay    0\n",
       "dtype: int64"
      ]
     },
     "execution_count": 6,
     "metadata": {},
     "output_type": "execute_result"
    }
   ],
   "source": [
    "#Replace alll Nans with 0's \n",
    "data = data.fillna(value=0, axis=0)\n",
    "data.isnull().sum()"
   ]
  },
  {
   "cell_type": "code",
   "execution_count": 7,
   "id": "123f3f96",
   "metadata": {},
   "outputs": [
    {
     "data": {
      "text/html": [
       "<div>\n",
       "<style scoped>\n",
       "    .dataframe tbody tr th:only-of-type {\n",
       "        vertical-align: middle;\n",
       "    }\n",
       "\n",
       "    .dataframe tbody tr th {\n",
       "        vertical-align: top;\n",
       "    }\n",
       "\n",
       "    .dataframe thead th {\n",
       "        text-align: right;\n",
       "    }\n",
       "</style>\n",
       "<table border=\"1\" class=\"dataframe\">\n",
       "  <thead>\n",
       "    <tr style=\"text-align: right;\">\n",
       "      <th></th>\n",
       "      <th>AirTime</th>\n",
       "      <th>ArrDelay</th>\n",
       "      <th>DepDelay</th>\n",
       "      <th>Distance</th>\n",
       "      <th>Cancelled</th>\n",
       "      <th>Diverted</th>\n",
       "      <th>CarrierDelay</th>\n",
       "      <th>WeatherDelay</th>\n",
       "      <th>NASDelay</th>\n",
       "      <th>SecurityDelay</th>\n",
       "      <th>LateAircraftDelay</th>\n",
       "    </tr>\n",
       "  </thead>\n",
       "  <tbody>\n",
       "    <tr>\n",
       "      <th>0</th>\n",
       "      <td>116.0</td>\n",
       "      <td>-14.0</td>\n",
       "      <td>8.0</td>\n",
       "      <td>810</td>\n",
       "      <td>0</td>\n",
       "      <td>0</td>\n",
       "      <td>0.0</td>\n",
       "      <td>0.0</td>\n",
       "      <td>0.0</td>\n",
       "      <td>0.0</td>\n",
       "      <td>0.0</td>\n",
       "    </tr>\n",
       "    <tr>\n",
       "      <th>1</th>\n",
       "      <td>113.0</td>\n",
       "      <td>2.0</td>\n",
       "      <td>19.0</td>\n",
       "      <td>810</td>\n",
       "      <td>0</td>\n",
       "      <td>0</td>\n",
       "      <td>0.0</td>\n",
       "      <td>0.0</td>\n",
       "      <td>0.0</td>\n",
       "      <td>0.0</td>\n",
       "      <td>0.0</td>\n",
       "    </tr>\n",
       "    <tr>\n",
       "      <th>2</th>\n",
       "      <td>76.0</td>\n",
       "      <td>14.0</td>\n",
       "      <td>8.0</td>\n",
       "      <td>515</td>\n",
       "      <td>0</td>\n",
       "      <td>0</td>\n",
       "      <td>0.0</td>\n",
       "      <td>0.0</td>\n",
       "      <td>0.0</td>\n",
       "      <td>0.0</td>\n",
       "      <td>0.0</td>\n",
       "    </tr>\n",
       "    <tr>\n",
       "      <th>3</th>\n",
       "      <td>77.0</td>\n",
       "      <td>34.0</td>\n",
       "      <td>34.0</td>\n",
       "      <td>515</td>\n",
       "      <td>0</td>\n",
       "      <td>0</td>\n",
       "      <td>2.0</td>\n",
       "      <td>0.0</td>\n",
       "      <td>0.0</td>\n",
       "      <td>0.0</td>\n",
       "      <td>32.0</td>\n",
       "    </tr>\n",
       "    <tr>\n",
       "      <th>4</th>\n",
       "      <td>87.0</td>\n",
       "      <td>11.0</td>\n",
       "      <td>25.0</td>\n",
       "      <td>688</td>\n",
       "      <td>0</td>\n",
       "      <td>0</td>\n",
       "      <td>0.0</td>\n",
       "      <td>0.0</td>\n",
       "      <td>0.0</td>\n",
       "      <td>0.0</td>\n",
       "      <td>0.0</td>\n",
       "    </tr>\n",
       "    <tr>\n",
       "      <th>...</th>\n",
       "      <td>...</td>\n",
       "      <td>...</td>\n",
       "      <td>...</td>\n",
       "      <td>...</td>\n",
       "      <td>...</td>\n",
       "      <td>...</td>\n",
       "      <td>...</td>\n",
       "      <td>...</td>\n",
       "      <td>...</td>\n",
       "      <td>...</td>\n",
       "      <td>...</td>\n",
       "    </tr>\n",
       "    <tr>\n",
       "      <th>1936753</th>\n",
       "      <td>120.0</td>\n",
       "      <td>25.0</td>\n",
       "      <td>30.0</td>\n",
       "      <td>906</td>\n",
       "      <td>0</td>\n",
       "      <td>0</td>\n",
       "      <td>3.0</td>\n",
       "      <td>0.0</td>\n",
       "      <td>0.0</td>\n",
       "      <td>0.0</td>\n",
       "      <td>22.0</td>\n",
       "    </tr>\n",
       "    <tr>\n",
       "      <th>1936754</th>\n",
       "      <td>78.0</td>\n",
       "      <td>75.0</td>\n",
       "      <td>57.0</td>\n",
       "      <td>481</td>\n",
       "      <td>0</td>\n",
       "      <td>0</td>\n",
       "      <td>0.0</td>\n",
       "      <td>57.0</td>\n",
       "      <td>18.0</td>\n",
       "      <td>0.0</td>\n",
       "      <td>0.0</td>\n",
       "    </tr>\n",
       "    <tr>\n",
       "      <th>1936755</th>\n",
       "      <td>122.0</td>\n",
       "      <td>99.0</td>\n",
       "      <td>80.0</td>\n",
       "      <td>689</td>\n",
       "      <td>0</td>\n",
       "      <td>0</td>\n",
       "      <td>1.0</td>\n",
       "      <td>0.0</td>\n",
       "      <td>19.0</td>\n",
       "      <td>0.0</td>\n",
       "      <td>79.0</td>\n",
       "    </tr>\n",
       "    <tr>\n",
       "      <th>1936756</th>\n",
       "      <td>89.0</td>\n",
       "      <td>9.0</td>\n",
       "      <td>11.0</td>\n",
       "      <td>533</td>\n",
       "      <td>0</td>\n",
       "      <td>0</td>\n",
       "      <td>0.0</td>\n",
       "      <td>0.0</td>\n",
       "      <td>0.0</td>\n",
       "      <td>0.0</td>\n",
       "      <td>0.0</td>\n",
       "    </tr>\n",
       "    <tr>\n",
       "      <th>1936757</th>\n",
       "      <td>104.0</td>\n",
       "      <td>-5.0</td>\n",
       "      <td>7.0</td>\n",
       "      <td>874</td>\n",
       "      <td>0</td>\n",
       "      <td>0</td>\n",
       "      <td>0.0</td>\n",
       "      <td>0.0</td>\n",
       "      <td>0.0</td>\n",
       "      <td>0.0</td>\n",
       "      <td>0.0</td>\n",
       "    </tr>\n",
       "  </tbody>\n",
       "</table>\n",
       "<p>1936758 rows × 11 columns</p>\n",
       "</div>"
      ],
      "text/plain": [
       "         AirTime  ArrDelay  DepDelay  Distance  Cancelled  Diverted  \\\n",
       "0          116.0     -14.0       8.0       810          0         0   \n",
       "1          113.0       2.0      19.0       810          0         0   \n",
       "2           76.0      14.0       8.0       515          0         0   \n",
       "3           77.0      34.0      34.0       515          0         0   \n",
       "4           87.0      11.0      25.0       688          0         0   \n",
       "...          ...       ...       ...       ...        ...       ...   \n",
       "1936753    120.0      25.0      30.0       906          0         0   \n",
       "1936754     78.0      75.0      57.0       481          0         0   \n",
       "1936755    122.0      99.0      80.0       689          0         0   \n",
       "1936756     89.0       9.0      11.0       533          0         0   \n",
       "1936757    104.0      -5.0       7.0       874          0         0   \n",
       "\n",
       "         CarrierDelay  WeatherDelay  NASDelay  SecurityDelay  \\\n",
       "0                 0.0           0.0       0.0            0.0   \n",
       "1                 0.0           0.0       0.0            0.0   \n",
       "2                 0.0           0.0       0.0            0.0   \n",
       "3                 2.0           0.0       0.0            0.0   \n",
       "4                 0.0           0.0       0.0            0.0   \n",
       "...               ...           ...       ...            ...   \n",
       "1936753           3.0           0.0       0.0            0.0   \n",
       "1936754           0.0          57.0      18.0            0.0   \n",
       "1936755           1.0           0.0      19.0            0.0   \n",
       "1936756           0.0           0.0       0.0            0.0   \n",
       "1936757           0.0           0.0       0.0            0.0   \n",
       "\n",
       "         LateAircraftDelay  \n",
       "0                      0.0  \n",
       "1                      0.0  \n",
       "2                      0.0  \n",
       "3                     32.0  \n",
       "4                      0.0  \n",
       "...                    ...  \n",
       "1936753               22.0  \n",
       "1936754                0.0  \n",
       "1936755               79.0  \n",
       "1936756                0.0  \n",
       "1936757                0.0  \n",
       "\n",
       "[1936758 rows x 11 columns]"
      ]
     },
     "metadata": {},
     "output_type": "display_data"
    },
    {
     "data": {
      "text/html": [
       "<div>\n",
       "<style scoped>\n",
       "    .dataframe tbody tr th:only-of-type {\n",
       "        vertical-align: middle;\n",
       "    }\n",
       "\n",
       "    .dataframe tbody tr th {\n",
       "        vertical-align: top;\n",
       "    }\n",
       "\n",
       "    .dataframe thead th {\n",
       "        text-align: right;\n",
       "    }\n",
       "</style>\n",
       "<table border=\"1\" class=\"dataframe\">\n",
       "  <thead>\n",
       "    <tr style=\"text-align: right;\">\n",
       "      <th></th>\n",
       "      <th>AirTime</th>\n",
       "      <th>DepDelay</th>\n",
       "      <th>Distance</th>\n",
       "      <th>CarrierDelay</th>\n",
       "      <th>WeatherDelay</th>\n",
       "      <th>NASDelay</th>\n",
       "      <th>SecurityDelay</th>\n",
       "      <th>LateAircraftDelay</th>\n",
       "      <th>ArrDelay</th>\n",
       "      <th>Cancelled</th>\n",
       "      <th>Diverted</th>\n",
       "    </tr>\n",
       "  </thead>\n",
       "  <tbody>\n",
       "    <tr>\n",
       "      <th>0</th>\n",
       "      <td>0.329114</td>\n",
       "      <td>-0.390244</td>\n",
       "      <td>0.309091</td>\n",
       "      <td>0.0</td>\n",
       "      <td>0.0</td>\n",
       "      <td>0.000000</td>\n",
       "      <td>0.0</td>\n",
       "      <td>0.000000</td>\n",
       "      <td>-14.0</td>\n",
       "      <td>0</td>\n",
       "      <td>0</td>\n",
       "    </tr>\n",
       "    <tr>\n",
       "      <th>1</th>\n",
       "      <td>0.291139</td>\n",
       "      <td>-0.121951</td>\n",
       "      <td>0.309091</td>\n",
       "      <td>0.0</td>\n",
       "      <td>0.0</td>\n",
       "      <td>0.000000</td>\n",
       "      <td>0.0</td>\n",
       "      <td>0.000000</td>\n",
       "      <td>2.0</td>\n",
       "      <td>0</td>\n",
       "      <td>0</td>\n",
       "    </tr>\n",
       "    <tr>\n",
       "      <th>2</th>\n",
       "      <td>-0.177215</td>\n",
       "      <td>-0.390244</td>\n",
       "      <td>-0.137879</td>\n",
       "      <td>0.0</td>\n",
       "      <td>0.0</td>\n",
       "      <td>0.000000</td>\n",
       "      <td>0.0</td>\n",
       "      <td>0.000000</td>\n",
       "      <td>14.0</td>\n",
       "      <td>0</td>\n",
       "      <td>0</td>\n",
       "    </tr>\n",
       "    <tr>\n",
       "      <th>3</th>\n",
       "      <td>-0.164557</td>\n",
       "      <td>0.243902</td>\n",
       "      <td>-0.137879</td>\n",
       "      <td>0.2</td>\n",
       "      <td>0.0</td>\n",
       "      <td>0.000000</td>\n",
       "      <td>0.0</td>\n",
       "      <td>1.777778</td>\n",
       "      <td>34.0</td>\n",
       "      <td>0</td>\n",
       "      <td>0</td>\n",
       "    </tr>\n",
       "    <tr>\n",
       "      <th>4</th>\n",
       "      <td>-0.037975</td>\n",
       "      <td>0.024390</td>\n",
       "      <td>0.124242</td>\n",
       "      <td>0.0</td>\n",
       "      <td>0.0</td>\n",
       "      <td>0.000000</td>\n",
       "      <td>0.0</td>\n",
       "      <td>0.000000</td>\n",
       "      <td>11.0</td>\n",
       "      <td>0</td>\n",
       "      <td>0</td>\n",
       "    </tr>\n",
       "    <tr>\n",
       "      <th>...</th>\n",
       "      <td>...</td>\n",
       "      <td>...</td>\n",
       "      <td>...</td>\n",
       "      <td>...</td>\n",
       "      <td>...</td>\n",
       "      <td>...</td>\n",
       "      <td>...</td>\n",
       "      <td>...</td>\n",
       "      <td>...</td>\n",
       "      <td>...</td>\n",
       "      <td>...</td>\n",
       "    </tr>\n",
       "    <tr>\n",
       "      <th>1936753</th>\n",
       "      <td>0.379747</td>\n",
       "      <td>0.146341</td>\n",
       "      <td>0.454545</td>\n",
       "      <td>0.3</td>\n",
       "      <td>0.0</td>\n",
       "      <td>0.000000</td>\n",
       "      <td>0.0</td>\n",
       "      <td>1.222222</td>\n",
       "      <td>25.0</td>\n",
       "      <td>0</td>\n",
       "      <td>0</td>\n",
       "    </tr>\n",
       "    <tr>\n",
       "      <th>1936754</th>\n",
       "      <td>-0.151899</td>\n",
       "      <td>0.804878</td>\n",
       "      <td>-0.189394</td>\n",
       "      <td>0.0</td>\n",
       "      <td>57.0</td>\n",
       "      <td>3.000000</td>\n",
       "      <td>0.0</td>\n",
       "      <td>0.000000</td>\n",
       "      <td>75.0</td>\n",
       "      <td>0</td>\n",
       "      <td>0</td>\n",
       "    </tr>\n",
       "    <tr>\n",
       "      <th>1936755</th>\n",
       "      <td>0.405063</td>\n",
       "      <td>1.365854</td>\n",
       "      <td>0.125758</td>\n",
       "      <td>0.1</td>\n",
       "      <td>0.0</td>\n",
       "      <td>3.166667</td>\n",
       "      <td>0.0</td>\n",
       "      <td>4.388889</td>\n",
       "      <td>99.0</td>\n",
       "      <td>0</td>\n",
       "      <td>0</td>\n",
       "    </tr>\n",
       "    <tr>\n",
       "      <th>1936756</th>\n",
       "      <td>-0.012658</td>\n",
       "      <td>-0.317073</td>\n",
       "      <td>-0.110606</td>\n",
       "      <td>0.0</td>\n",
       "      <td>0.0</td>\n",
       "      <td>0.000000</td>\n",
       "      <td>0.0</td>\n",
       "      <td>0.000000</td>\n",
       "      <td>9.0</td>\n",
       "      <td>0</td>\n",
       "      <td>0</td>\n",
       "    </tr>\n",
       "    <tr>\n",
       "      <th>1936757</th>\n",
       "      <td>0.177215</td>\n",
       "      <td>-0.414634</td>\n",
       "      <td>0.406061</td>\n",
       "      <td>0.0</td>\n",
       "      <td>0.0</td>\n",
       "      <td>0.000000</td>\n",
       "      <td>0.0</td>\n",
       "      <td>0.000000</td>\n",
       "      <td>-5.0</td>\n",
       "      <td>0</td>\n",
       "      <td>0</td>\n",
       "    </tr>\n",
       "  </tbody>\n",
       "</table>\n",
       "<p>1936758 rows × 11 columns</p>\n",
       "</div>"
      ],
      "text/plain": [
       "          AirTime  DepDelay  Distance  CarrierDelay  WeatherDelay  NASDelay  \\\n",
       "0        0.329114 -0.390244  0.309091           0.0           0.0  0.000000   \n",
       "1        0.291139 -0.121951  0.309091           0.0           0.0  0.000000   \n",
       "2       -0.177215 -0.390244 -0.137879           0.0           0.0  0.000000   \n",
       "3       -0.164557  0.243902 -0.137879           0.2           0.0  0.000000   \n",
       "4       -0.037975  0.024390  0.124242           0.0           0.0  0.000000   \n",
       "...           ...       ...       ...           ...           ...       ...   \n",
       "1936753  0.379747  0.146341  0.454545           0.3           0.0  0.000000   \n",
       "1936754 -0.151899  0.804878 -0.189394           0.0          57.0  3.000000   \n",
       "1936755  0.405063  1.365854  0.125758           0.1           0.0  3.166667   \n",
       "1936756 -0.012658 -0.317073 -0.110606           0.0           0.0  0.000000   \n",
       "1936757  0.177215 -0.414634  0.406061           0.0           0.0  0.000000   \n",
       "\n",
       "         SecurityDelay  LateAircraftDelay  ArrDelay  Cancelled  Diverted  \n",
       "0                  0.0           0.000000     -14.0          0         0  \n",
       "1                  0.0           0.000000       2.0          0         0  \n",
       "2                  0.0           0.000000      14.0          0         0  \n",
       "3                  0.0           1.777778      34.0          0         0  \n",
       "4                  0.0           0.000000      11.0          0         0  \n",
       "...                ...                ...       ...        ...       ...  \n",
       "1936753            0.0           1.222222      25.0          0         0  \n",
       "1936754            0.0           0.000000      75.0          0         0  \n",
       "1936755            0.0           4.388889      99.0          0         0  \n",
       "1936756            0.0           0.000000       9.0          0         0  \n",
       "1936757            0.0           0.000000      -5.0          0         0  \n",
       "\n",
       "[1936758 rows x 11 columns]"
      ]
     },
     "metadata": {},
     "output_type": "display_data"
    }
   ],
   "source": [
    "# Select numerical variables.\n",
    "num = data.select_dtypes(include=['float64', 'int64'])\n",
    "display(num)\n",
    "#exclude boolean diverted, cancelled\n",
    "same = num.loc[:, num.columns.isin(['ArrDelay','Diverted', 'Cancelled'])]\n",
    "scaled = num.loc[:, ~num.columns.isin(['ArrDelay','Diverted', 'Cancelled'])]\n",
    "\n",
    "robust_df = RobustScaler(quantile_range=(25, 75)).fit_transform(scaled)\n",
    "robust_df = pd.DataFrame(data=robust_df, columns=scaled.columns)\n",
    "robust_df = pd.concat([robust_df,same],axis=1)\n",
    "display(robust_df)"
   ]
  },
  {
   "cell_type": "markdown",
   "id": "7066073b",
   "metadata": {},
   "source": [
    "###  Foreword\n",
    "Since we keep using the same data from the previous exercices, in order to keep clarity and awareness of the whole data processing done before, some tables are facilitated below.\n",
    "\n",
    "There were two big clusters of NaNs:\n",
    "- one was affecting the features relative to causes of delay (Carrier, Weather, NAS, Security, LateAircraftdelay) but their Nans were due to the fact that according to the Official Bureau of Transportations, less than 15 minute of Delay is considered \"on-time\", hence these delay types don't apply.\n",
    "- second was affecting the features AirTime and ArrDelay, further checks helped us spot that all this Nans were due to the fact that the flight had either been Cancelled or Diverted, so if there's no flight there can't be airtime or delay.\n",
    "\n",
    "\n",
    "Subsequently, all Nans where replaced with zeros and data was Robust Scaled due to the outliers present in the dataset. And this is the dataset used in this exercice."
   ]
  },
  {
   "cell_type": "code",
   "execution_count": 8,
   "id": "fe770280",
   "metadata": {},
   "outputs": [
    {
     "name": "stdout",
     "output_type": "stream",
     "text": [
      "Used dataset contains 11 features and 1936758 samples\n"
     ]
    },
    {
     "data": {
      "text/html": [
       "<div>\n",
       "<style scoped>\n",
       "    .dataframe tbody tr th:only-of-type {\n",
       "        vertical-align: middle;\n",
       "    }\n",
       "\n",
       "    .dataframe tbody tr th {\n",
       "        vertical-align: top;\n",
       "    }\n",
       "\n",
       "    .dataframe thead th {\n",
       "        text-align: right;\n",
       "    }\n",
       "</style>\n",
       "<table border=\"1\" class=\"dataframe\">\n",
       "  <thead>\n",
       "    <tr style=\"text-align: right;\">\n",
       "      <th></th>\n",
       "      <th>AirTime</th>\n",
       "      <th>DepDelay</th>\n",
       "      <th>Distance</th>\n",
       "      <th>CarrierDelay</th>\n",
       "      <th>WeatherDelay</th>\n",
       "      <th>NASDelay</th>\n",
       "      <th>SecurityDelay</th>\n",
       "      <th>LateAircraftDelay</th>\n",
       "      <th>ArrDelay</th>\n",
       "      <th>Cancelled</th>\n",
       "      <th>Diverted</th>\n",
       "    </tr>\n",
       "  </thead>\n",
       "  <tbody>\n",
       "    <tr>\n",
       "      <th>0</th>\n",
       "      <td>0.329114</td>\n",
       "      <td>-0.390244</td>\n",
       "      <td>0.309091</td>\n",
       "      <td>0.0</td>\n",
       "      <td>0.0</td>\n",
       "      <td>0.000000</td>\n",
       "      <td>0.0</td>\n",
       "      <td>0.000000</td>\n",
       "      <td>-14.0</td>\n",
       "      <td>0</td>\n",
       "      <td>0</td>\n",
       "    </tr>\n",
       "    <tr>\n",
       "      <th>1</th>\n",
       "      <td>0.291139</td>\n",
       "      <td>-0.121951</td>\n",
       "      <td>0.309091</td>\n",
       "      <td>0.0</td>\n",
       "      <td>0.0</td>\n",
       "      <td>0.000000</td>\n",
       "      <td>0.0</td>\n",
       "      <td>0.000000</td>\n",
       "      <td>2.0</td>\n",
       "      <td>0</td>\n",
       "      <td>0</td>\n",
       "    </tr>\n",
       "    <tr>\n",
       "      <th>2</th>\n",
       "      <td>-0.177215</td>\n",
       "      <td>-0.390244</td>\n",
       "      <td>-0.137879</td>\n",
       "      <td>0.0</td>\n",
       "      <td>0.0</td>\n",
       "      <td>0.000000</td>\n",
       "      <td>0.0</td>\n",
       "      <td>0.000000</td>\n",
       "      <td>14.0</td>\n",
       "      <td>0</td>\n",
       "      <td>0</td>\n",
       "    </tr>\n",
       "    <tr>\n",
       "      <th>3</th>\n",
       "      <td>-0.164557</td>\n",
       "      <td>0.243902</td>\n",
       "      <td>-0.137879</td>\n",
       "      <td>0.2</td>\n",
       "      <td>0.0</td>\n",
       "      <td>0.000000</td>\n",
       "      <td>0.0</td>\n",
       "      <td>1.777778</td>\n",
       "      <td>34.0</td>\n",
       "      <td>0</td>\n",
       "      <td>0</td>\n",
       "    </tr>\n",
       "    <tr>\n",
       "      <th>4</th>\n",
       "      <td>-0.037975</td>\n",
       "      <td>0.024390</td>\n",
       "      <td>0.124242</td>\n",
       "      <td>0.0</td>\n",
       "      <td>0.0</td>\n",
       "      <td>0.000000</td>\n",
       "      <td>0.0</td>\n",
       "      <td>0.000000</td>\n",
       "      <td>11.0</td>\n",
       "      <td>0</td>\n",
       "      <td>0</td>\n",
       "    </tr>\n",
       "    <tr>\n",
       "      <th>...</th>\n",
       "      <td>...</td>\n",
       "      <td>...</td>\n",
       "      <td>...</td>\n",
       "      <td>...</td>\n",
       "      <td>...</td>\n",
       "      <td>...</td>\n",
       "      <td>...</td>\n",
       "      <td>...</td>\n",
       "      <td>...</td>\n",
       "      <td>...</td>\n",
       "      <td>...</td>\n",
       "    </tr>\n",
       "    <tr>\n",
       "      <th>1936753</th>\n",
       "      <td>0.379747</td>\n",
       "      <td>0.146341</td>\n",
       "      <td>0.454545</td>\n",
       "      <td>0.3</td>\n",
       "      <td>0.0</td>\n",
       "      <td>0.000000</td>\n",
       "      <td>0.0</td>\n",
       "      <td>1.222222</td>\n",
       "      <td>25.0</td>\n",
       "      <td>0</td>\n",
       "      <td>0</td>\n",
       "    </tr>\n",
       "    <tr>\n",
       "      <th>1936754</th>\n",
       "      <td>-0.151899</td>\n",
       "      <td>0.804878</td>\n",
       "      <td>-0.189394</td>\n",
       "      <td>0.0</td>\n",
       "      <td>57.0</td>\n",
       "      <td>3.000000</td>\n",
       "      <td>0.0</td>\n",
       "      <td>0.000000</td>\n",
       "      <td>75.0</td>\n",
       "      <td>0</td>\n",
       "      <td>0</td>\n",
       "    </tr>\n",
       "    <tr>\n",
       "      <th>1936755</th>\n",
       "      <td>0.405063</td>\n",
       "      <td>1.365854</td>\n",
       "      <td>0.125758</td>\n",
       "      <td>0.1</td>\n",
       "      <td>0.0</td>\n",
       "      <td>3.166667</td>\n",
       "      <td>0.0</td>\n",
       "      <td>4.388889</td>\n",
       "      <td>99.0</td>\n",
       "      <td>0</td>\n",
       "      <td>0</td>\n",
       "    </tr>\n",
       "    <tr>\n",
       "      <th>1936756</th>\n",
       "      <td>-0.012658</td>\n",
       "      <td>-0.317073</td>\n",
       "      <td>-0.110606</td>\n",
       "      <td>0.0</td>\n",
       "      <td>0.0</td>\n",
       "      <td>0.000000</td>\n",
       "      <td>0.0</td>\n",
       "      <td>0.000000</td>\n",
       "      <td>9.0</td>\n",
       "      <td>0</td>\n",
       "      <td>0</td>\n",
       "    </tr>\n",
       "    <tr>\n",
       "      <th>1936757</th>\n",
       "      <td>0.177215</td>\n",
       "      <td>-0.414634</td>\n",
       "      <td>0.406061</td>\n",
       "      <td>0.0</td>\n",
       "      <td>0.0</td>\n",
       "      <td>0.000000</td>\n",
       "      <td>0.0</td>\n",
       "      <td>0.000000</td>\n",
       "      <td>-5.0</td>\n",
       "      <td>0</td>\n",
       "      <td>0</td>\n",
       "    </tr>\n",
       "  </tbody>\n",
       "</table>\n",
       "<p>1936758 rows × 11 columns</p>\n",
       "</div>"
      ],
      "text/plain": [
       "          AirTime  DepDelay  Distance  CarrierDelay  WeatherDelay  NASDelay  \\\n",
       "0        0.329114 -0.390244  0.309091           0.0           0.0  0.000000   \n",
       "1        0.291139 -0.121951  0.309091           0.0           0.0  0.000000   \n",
       "2       -0.177215 -0.390244 -0.137879           0.0           0.0  0.000000   \n",
       "3       -0.164557  0.243902 -0.137879           0.2           0.0  0.000000   \n",
       "4       -0.037975  0.024390  0.124242           0.0           0.0  0.000000   \n",
       "...           ...       ...       ...           ...           ...       ...   \n",
       "1936753  0.379747  0.146341  0.454545           0.3           0.0  0.000000   \n",
       "1936754 -0.151899  0.804878 -0.189394           0.0          57.0  3.000000   \n",
       "1936755  0.405063  1.365854  0.125758           0.1           0.0  3.166667   \n",
       "1936756 -0.012658 -0.317073 -0.110606           0.0           0.0  0.000000   \n",
       "1936757  0.177215 -0.414634  0.406061           0.0           0.0  0.000000   \n",
       "\n",
       "         SecurityDelay  LateAircraftDelay  ArrDelay  Cancelled  Diverted  \n",
       "0                  0.0           0.000000     -14.0          0         0  \n",
       "1                  0.0           0.000000       2.0          0         0  \n",
       "2                  0.0           0.000000      14.0          0         0  \n",
       "3                  0.0           1.777778      34.0          0         0  \n",
       "4                  0.0           0.000000      11.0          0         0  \n",
       "...                ...                ...       ...        ...       ...  \n",
       "1936753            0.0           1.222222      25.0          0         0  \n",
       "1936754            0.0           0.000000      75.0          0         0  \n",
       "1936755            0.0           4.388889      99.0          0         0  \n",
       "1936756            0.0           0.000000       9.0          0         0  \n",
       "1936757            0.0           0.000000      -5.0          0         0  \n",
       "\n",
       "[1936758 rows x 11 columns]"
      ]
     },
     "metadata": {},
     "output_type": "display_data"
    }
   ],
   "source": [
    "# Check resulting Dataframe\n",
    "a,b = robust_df.shape\n",
    "print(f'Used dataset contains {b} features and {a} samples')\n",
    "display(robust_df)"
   ]
  },
  {
   "cell_type": "markdown",
   "id": "4b2b27ba",
   "metadata": {},
   "source": [
    ">Ass seen above, we reduced initial features number down to 11. This included:\n",
    "- AirTime: One of the most important features, it was higly correlated with Distance (0,98) and then the latter was taken out since the provided information was almost the same.\n",
    "\n",
    "- ArrDelay: it's the target feature.\n",
    "\n",
    "- DepDelay: The main feature related to target. It poses a 0,95 wich is a really high correlation \n",
    "\n",
    "- Distance: Distance of the flight\n",
    "\n",
    "- CarrierDelay/WeatherDelay/NASDelay/SecurityDelay/LateAircraftDelay: Amalgamation of Delay causes, altogether provide valuable insights being important independent variables, that's the main reason behind keeping them and discarding all the other compound variables like TaxiIn/taxiOut, Estimated scheduled times (CRS's)  and Delay since ArrDelay and DepDelay are their by-products.\n",
    "\n",
    "- Diverted/Cancelled: These Binary provided useful info since allowed us to detect anomalies within Airtime (like for instance a 0 min Airtime wich showed infinite values for the purposefully created AverageSpeed)."
   ]
  },
  {
   "cell_type": "code",
   "execution_count": 9,
   "id": "ec8b813d",
   "metadata": {},
   "outputs": [
    {
     "data": {
      "image/png": "[encoded data removed]",
      "text/plain": [
       "<Figure size 504x504 with 2 Axes>"
      ]
     },
     "metadata": {},
     "output_type": "display_data"
    }
   ],
   "source": [
    "# Check correlation between final selected variables\n",
    "data_corr = robust_df.corr()\n",
    "\n",
    "# set style and plot:\n",
    "sb.set(font_scale=1.2) \n",
    "fig, ax = plt.subplots(figsize=(7,7))\n",
    "ax = sb.heatmap(data = data_corr, \n",
    "               square = True,\n",
    "               annot = True,\n",
    "               cmap = 'twilight_shifted_r',\n",
    "               vmin = -1,\n",
    "               vmax = 1,\n",
    "               center = 0, \n",
    "               linewidths=2,\n",
    "               ax=ax, \n",
    "               annot_kws={\"size\":11}, fmt='.2f')\n",
    "            \n",
    "ax.set(title='Final features Correlation Matrix')\n",
    "plt.show()\n",
    "plt.close()\n"
   ]
  },
  {
   "cell_type": "code",
   "execution_count": 10,
   "id": "7d8fdb00",
   "metadata": {},
   "outputs": [],
   "source": [
    "# Split dataset into train and test.\n",
    "X = robust_df.loc[:, robust_df.columns != 'ArrDelay']\n",
    "y = robust_df.loc[:, robust_df.columns == 'ArrDelay']\n",
    "X_train, X_test, y_train, y_test = (train_test_split(X,y, test_size=0.30))\n"
   ]
  },
  {
   "cell_type": "markdown",
   "id": "ab72de02",
   "metadata": {},
   "source": [
    "# Exercici 1\n",
    "\n",
    "Crea almenys tres models de classificació diferents per intentar predir el millor possible l’endarreriment dels vols (ArrDelay) de DelayedFlights.csv. Considera si el vol ha arribat tard o no (ArrDelay > 0).\n",
    ">Given the fact that our target feature is continuous and we only need to provide a Binary answer, we'll just convert y_train and y_test based on the above stated condition (ArrDelay > 0).\n",
    "\n",
    ">We might as well check if y-train/test are balanced.\n",
    "\n",
    ">Therefore since our target variable is binary we'll use AUC (Area Under Curve), precision score and confusion matrix as the main evaluation metrics."
   ]
  },
  {
   "cell_type": "code",
   "execution_count": 11,
   "id": "8fed477b",
   "metadata": {},
   "outputs": [
    {
     "data": {
      "text/plain": [
       "1    517077\n",
       "0     63951\n",
       "dtype: int64"
      ]
     },
     "metadata": {},
     "output_type": "display_data"
    },
    {
     "data": {
      "text/plain": [
       "1    1206338\n",
       "0     149392\n",
       "dtype: int64"
      ]
     },
     "metadata": {},
     "output_type": "display_data"
    }
   ],
   "source": [
    "# Transform y_train and y_test (a.k.a. Arrival Delay) to binary\n",
    "y_test = binarize(y_test) \n",
    "y_train = binarize(y_train) \n",
    "\n",
    "# Check values in target splits to see if they are balanced\n",
    "display(y_test.value_counts())\n",
    "display(y_train.value_counts())\n",
    "\n",
    "\n"
   ]
  },
  {
   "cell_type": "markdown",
   "id": "fb1c61bc",
   "metadata": {},
   "source": [
    ">Yep, they're pretty much balanced so let's go with the models"
   ]
  },
  {
   "cell_type": "markdown",
   "id": "1ba3d6b0",
   "metadata": {},
   "source": [
    "___\n",
    "## Logistic regression model"
   ]
  },
  {
   "cell_type": "code",
   "execution_count": 12,
   "id": "28681c91",
   "metadata": {},
   "outputs": [],
   "source": [
    "# Create object\n",
    "logregr = LogisticRegression()\n",
    "\n",
    "# Train model\n",
    "logregr.fit(X_train, y_train)\n",
    "\n",
    "# Make predictions\n",
    "y_predictions = logregr.predict(X_test)"
   ]
  },
  {
   "cell_type": "markdown",
   "id": "db9b7463",
   "metadata": {},
   "source": [
    "###  Evaluation metrics"
   ]
  },
  {
   "cell_type": "code",
   "execution_count": 13,
   "id": "6e6b3d86",
   "metadata": {},
   "outputs": [
    {
     "data": {
      "image/png": "[encoded data removed]",
      "text/plain": [
       "<Figure size 432x288 with 1 Axes>"
      ]
     },
     "metadata": {},
     "output_type": "display_data"
    },
    {
     "name": "stdout",
     "output_type": "stream",
     "text": [
      "Train Score 0.9025100868166965\n",
      "Test Score 0.902910014663665\n"
     ]
    }
   ],
   "source": [
    "# Evaluation metrics\n",
    "false_positive_rate, true_positive_rate, thresholds = roc_curve(y_test, y_predictions)\n",
    "log_auc = auc(false_positive_rate, true_positive_rate)\n",
    "log_accur = metrics.accuracy_score(y_test, y_predictions)\n",
    "log_prec = metrics.precision_score(y_test, y_predictions) \n",
    "log_rec = metrics.recall_score(y_test, y_predictions)\n",
    "# Plot ROC curve\n",
    "plt.plot(false_positive_rate, true_positive_rate)\n",
    "plt.xlim([-0.1,1.0])\n",
    "plt.ylim([0.0,1.2])\n",
    "plt.title('ROC curve for Logistic Regression Model', fontsize=17)\n",
    "plt.xlabel('false_positive_rate')\n",
    "plt.ylabel('Sensitivity (true positive rate)')\n",
    "plt.show()\n",
    "plt.close('all')\n",
    "print ('Train Score', logregr.score(X_train, y_train))\n",
    "print('Test Score', logregr.score(X_test, y_test))\n"
   ]
  },
  {
   "cell_type": "markdown",
   "id": "0a7fc07a",
   "metadata": {},
   "source": [
    "###  Confusion Matrix"
   ]
  },
  {
   "cell_type": "code",
   "execution_count": 14,
   "id": "70173b51",
   "metadata": {},
   "outputs": [
    {
     "data": {
      "image/png": "[encoded data removed]",
      "text/plain": [
       "<Figure size 432x288 with 2 Axes>"
      ]
     },
     "metadata": {},
     "output_type": "display_data"
    }
   ],
   "source": [
    "cnf_matrix = metrics.confusion_matrix(y_test, y_predictions)\n",
    "\n",
    "# plotting matrix\n",
    "class_names=[0,1]\n",
    "fig, ax = plt.subplots()\n",
    "tick_marks = np.arange(len(class_names))\n",
    "plt.xticks(tick_marks, class_names)\n",
    "plt.yticks(tick_marks, class_names)\n",
    "# create heatmap\n",
    "sb.set()\n",
    "sb.heatmap(pd.DataFrame(cnf_matrix), annot=True, cmap=\"viridis_r\" ,fmt='g')\n",
    "plt.title('Confusion matrix for Logistic regression', y=1.1, fontsize=18)\n",
    "plt.ylabel('Actual ArrDelay')\n",
    "plt.xlabel('Predicted ArrDelay')\n",
    "plt.show()\n",
    "plt.close()"
   ]
  },
  {
   "cell_type": "markdown",
   "id": "dd658b8c",
   "metadata": {},
   "source": [
    "___\n",
    "## Random Forest Classifier Model"
   ]
  },
  {
   "cell_type": "code",
   "execution_count": 15,
   "id": "6d9fdc00",
   "metadata": {},
   "outputs": [],
   "source": [
    "# Create Object\n",
    "rfc_clasif = RandomForestClassifier()\n",
    "\n",
    "# Train the model\n",
    "rfc_clasif.fit(X_train, y_train)\n",
    "\n",
    "# Predict Values\n",
    "y_predictions = rfc_clasif.predict(X_test)"
   ]
  },
  {
   "cell_type": "markdown",
   "id": "a6a3318d",
   "metadata": {},
   "source": [
    "###  Evaluation metrics"
   ]
  },
  {
   "cell_type": "code",
   "execution_count": 16,
   "id": "b1d9a9c3",
   "metadata": {},
   "outputs": [
    {
     "data": {
      "image/png": "[encoded data removed]",
      "text/plain": [
       "<Figure size 432x288 with 1 Axes>"
      ]
     },
     "metadata": {},
     "output_type": "display_data"
    },
    {
     "name": "stdout",
     "output_type": "stream",
     "text": [
      "Train Score:  0.9574185125356819\n",
      "Test Score:  0.8967519637607826\n"
     ]
    }
   ],
   "source": [
    "# Evaluation metrics\n",
    "false_positive_rate, true_positive_rate, thresholds = roc_curve(y_test, y_predictions)\n",
    "rfc_auc = auc(false_positive_rate, true_positive_rate)\n",
    "rfc_accur = metrics.accuracy_score(y_test, y_predictions)\n",
    "rfc_prec = metrics.precision_score(y_test, y_predictions) \n",
    "rfc_rec = metrics.recall_score(y_test, y_predictions)\n",
    "# Plot ROC curve\n",
    "plt.plot(false_positive_rate, true_positive_rate)\n",
    "plt.xlim([-0.1,1.0])\n",
    "plt.ylim([0.0,1.2])\n",
    "plt.title('ROC curve for Random Forest Classifier Model', fontsize=17)\n",
    "plt.xlabel('false_positive_rate')\n",
    "plt.ylabel('Sensitivity (true positive rate)')\n",
    "plt.show()\n",
    "plt.close('all')\n",
    "print ('Train Score: ', rfc_clasif.score(X_train, y_train))\n",
    "print('Test Score: ',rfc_clasif.score(X_test, y_test))"
   ]
  },
  {
   "cell_type": "markdown",
   "id": "1addb688",
   "metadata": {},
   "source": [
    "###  Confusion Matrix"
   ]
  },
  {
   "cell_type": "code",
   "execution_count": 17,
   "id": "f0419580",
   "metadata": {},
   "outputs": [
    {
     "data": {
      "image/png": "[encoded data removed]",
      "text/plain": [
       "<Figure size 432x288 with 2 Axes>"
      ]
     },
     "metadata": {},
     "output_type": "display_data"
    }
   ],
   "source": [
    "cnf_matrix = metrics.confusion_matrix(y_test, y_predictions)\n",
    "\n",
    "# plotting matrix\n",
    "class_names=[0,1]\n",
    "fig, ax = plt.subplots()\n",
    "tick_marks = np.arange(len(class_names))\n",
    "plt.xticks(tick_marks, class_names)\n",
    "plt.yticks(tick_marks, class_names)\n",
    "# create heatmap\n",
    "sb.set()\n",
    "sb.heatmap(pd.DataFrame(cnf_matrix), annot=True, cmap=\"viridis_r\" ,fmt='g')\n",
    "ax.xaxis.set_label_position(\"top\")\n",
    "plt.tight_layout()\n",
    "plt.title('Confusion matrix for Random Forest Classifier', y=1.1, fontsize=18)\n",
    "plt.ylabel('Actual ArrDelay')\n",
    "plt.xlabel('Predicted ArrDelay')\n",
    "plt.show()\n",
    "plt.close()"
   ]
  },
  {
   "cell_type": "markdown",
   "id": "16cd4458",
   "metadata": {},
   "source": [
    "___\n",
    "## Multi-layer Perceptron classifier (MLPC) Model"
   ]
  },
  {
   "cell_type": "code",
   "execution_count": 18,
   "id": "c9a39251",
   "metadata": {},
   "outputs": [],
   "source": [
    "# Create Object\n",
    "nn_clasif = MLPClassifier()\n",
    "\n",
    "# Train the model\n",
    "nn_clasif.fit(X_train, y_train)\n",
    "\n",
    "# Predict Values\n",
    "y_predictions = nn_clasif.predict(X_test)"
   ]
  },
  {
   "cell_type": "markdown",
   "id": "979b5d99",
   "metadata": {},
   "source": [
    "###  Evaluation metrics"
   ]
  },
  {
   "cell_type": "code",
   "execution_count": 19,
   "id": "97db33ba",
   "metadata": {},
   "outputs": [
    {
     "data": {
      "image/png": "[encoded data removed]",
      "text/plain": [
       "<Figure size 432x288 with 1 Axes>"
      ]
     },
     "metadata": {},
     "output_type": "display_data"
    },
    {
     "name": "stdout",
     "output_type": "stream",
     "text": [
      "Train Score 0.9079270946279864\n",
      "Test Score 0.9079596852475268\n"
     ]
    }
   ],
   "source": [
    "# Evaluation metrics\n",
    "false_positive_rate, true_positive_rate, thresholds = roc_curve(y_test, y_predictions)\n",
    "mlpc_auc = auc(false_positive_rate, true_positive_rate)\n",
    "mlpc_accur = metrics.accuracy_score(y_test, y_predictions)\n",
    "mlpc_prec = metrics.precision_score(y_test, y_predictions) \n",
    "mlpc_rec = metrics.recall_score(y_test, y_predictions)\n",
    "# Plot ROC curve\n",
    "plt.plot(false_positive_rate, true_positive_rate)\n",
    "plt.xlim([-0.1,1.0])\n",
    "plt.ylim([0.0,1.2])\n",
    "plt.title('ROC curve for MLPC Model')\n",
    "plt.xlabel('false_positive_rate')\n",
    "plt.ylabel('Sensitivity (true positive rate)')\n",
    "plt.show()\n",
    "plt.close('all')\n",
    "\n",
    "print ('Train Score', nn_clasif.score(X_train, y_train))\n",
    "print('Test Score', nn_clasif.score(X_test, y_test))"
   ]
  },
  {
   "cell_type": "markdown",
   "id": "4072ea33",
   "metadata": {},
   "source": [
    "###  Confusion Matrix"
   ]
  },
  {
   "cell_type": "code",
   "execution_count": 20,
   "id": "c899acdc",
   "metadata": {
    "scrolled": true
   },
   "outputs": [
    {
     "data": {
      "image/png": "[encoded data removed]",
      "text/plain": [
       "<Figure size 432x288 with 2 Axes>"
      ]
     },
     "metadata": {},
     "output_type": "display_data"
    }
   ],
   "source": [
    "cnf_matrix = metrics.confusion_matrix(y_test, y_predictions)\n",
    "\n",
    "# plotting matrix\n",
    "class_names=[0,1]\n",
    "fig, ax = plt.subplots()\n",
    "tick_marks = np.arange(len(class_names))\n",
    "plt.xticks(tick_marks, class_names)\n",
    "plt.yticks(tick_marks, class_names)\n",
    "# create heatmap\n",
    "sb.set()\n",
    "sb.heatmap(pd.DataFrame(cnf_matrix), annot=True, cmap=\"viridis_r\" ,fmt='g')\n",
    "ax.xaxis.set_label_position(\"top\")\n",
    "plt.tight_layout()\n",
    "plt.title('Confusion matrix for Neural Network Classifier', y=1.1, fontsize=18)\n",
    "plt.ylabel('Actual ArrDelay')\n",
    "plt.xlabel('Predicted ArrDelay')\n",
    "plt.show()\n",
    "plt.close()"
   ]
  },
  {
   "cell_type": "markdown",
   "id": "1ed8d3b6",
   "metadata": {},
   "source": [
    "___\n",
    "## Exercici 2\n",
    "\n",
    "Compara els models de classificació utilitzant la precisió (accuracy), una matriu de confiança i d’altres mètriques més avançades.\n",
    ">Evaluation metrics comparison below, for confusion matrixes and ROC curve check every model above."
   ]
  },
  {
   "cell_type": "code",
   "execution_count": 21,
   "id": "3a7a62db",
   "metadata": {},
   "outputs": [
    {
     "name": "stdout",
     "output_type": "stream",
     "text": [
      "Model comparison on Area Under the Curve (AUC-ROC)\n",
      "\n",
      "AUC-ROC for Logistic Regression Model: 0.614290\n",
      "AUC-ROC for Random Forest Model: 0.703901\n",
      "AUC-ROC for Neural Network Model: 0.672638\n",
      "\n",
      "Model comparison on Accuracy \n",
      "\n",
      "Accuracy for Logistic Regression Model: 0.902910\n",
      "Accuracy for Random Forest Model: 0.896752\n",
      "Accuracy for Neural Network Model: 0.907960\n",
      "\n",
      "\n",
      "Model comparison on Precision:\n",
      "\n",
      "Precision for Logistic Regression Model: 0.913276\n",
      "Precision for Random Forest Model: 0.934009\n",
      "Precision for Neural Network Model: 0.926053\n",
      "\n",
      "Model comparison on Recall:\n",
      "\n",
      "Recall for Logistic Regression Model: 0.984378\n",
      "Recall for Random Forest Model: 0.951187\n",
      "Recall for Neural Network Model: 0.974383\n"
     ]
    }
   ],
   "source": [
    "# Print results for evaluation\n",
    "print('Model comparison on Area Under the Curve (AUC-ROC)\\n')\n",
    "\n",
    "print(f'AUC-ROC for Logistic Regression Model: {log_auc:.6f}')\n",
    "print(f'AUC-ROC for Random Forest Model: {rfc_auc:.6f}')\n",
    "print(f'AUC-ROC for Neural Network Model: {mlpc_auc:.6f}\\n')\n",
    "\n",
    "print('Model comparison on Accuracy \\n')\n",
    "\n",
    "print(f'Accuracy for Logistic Regression Model: {log_accur:.6f}')\n",
    "print(f'Accuracy for Random Forest Model: {rfc_accur:.6f}')\n",
    "print(f'Accuracy for Neural Network Model: {mlpc_accur:.6f}\\n')\n",
    "\n",
    "print('\\nModel comparison on Precision:\\n')\n",
    "\n",
    "print(f\"Precision for Logistic Regression Model: {log_prec:.6f}\")\n",
    "print(f\"Precision for Random Forest Model: {rfc_prec:.6f}\")\n",
    "print(f\"Precision for Neural Network Model: {mlpc_prec:.6f}\")\n",
    "\n",
    "print('\\nModel comparison on Recall:\\n')\n",
    "\n",
    "print(f\"Recall for Logistic Regression Model: {log_rec:.6f}\")\n",
    "print(f\"Recall for Random Forest Model: {rfc_rec:.6f}\")\n",
    "print(f\"Recall for Neural Network Model: {mlpc_rec:.6f}\")\n"
   ]
  },
  {
   "cell_type": "markdown",
   "id": "8d84c244",
   "metadata": {},
   "source": [
    ">As we can see, there seems to be some overfitting spreaded across our models. The fact that the random forest models are least likely to overfit could explain that , since RFC metrics where expected to surpass the logistic model\n",
    "___\n",
    "## Exercici 3\n",
    "\n",
    "Entrena’ls utilitzant els diferents paràmetres que admeten.\n",
    "\n",
    ">Here we'll use RandomizedSearchCV on the random Forest Classifier() , returning the set of parameters that lay the best score internally using cross validation, but since values are to be considered overfitted, we'll try to reduce performance with a tree depth reduction, meaning the less tree depth the less complexity. "
   ]
  },
  {
   "cell_type": "code",
   "execution_count": 22,
   "id": "ef1fafe9",
   "metadata": {},
   "outputs": [
    {
     "name": "stdout",
     "output_type": "stream",
     "text": [
      "Train Score:  0.9574185125356819\n",
      "Test Score:  0.8967519637607826\n",
      "Best Parameters \n"
     ]
    },
    {
     "data": {
      "text/plain": [
       "{'n_estimators': 10,\n",
       " 'min_samples_split': 8,\n",
       " 'min_samples_leaf': 1,\n",
       " 'max_features': 'auto',\n",
       " 'max_depth': 10,\n",
       " 'criterion': 'entropy',\n",
       " 'bootstrap': True}"
      ]
     },
     "execution_count": 22,
     "metadata": {},
     "output_type": "execute_result"
    }
   ],
   "source": [
    "# Previous RFC Model Scores\n",
    "print ('Train Score: ', rfc_clasif.score(X_train, y_train))\n",
    "print('Test Score: ',rfc_clasif.score(X_test, y_test))\n",
    "# Number of trees in random forest\n",
    "n_estimators = [1,10,100]\n",
    "# Number of features to consider at every split\n",
    "max_features = ['auto', 'sqrt']\n",
    "# Maximum number of levels in tree\n",
    "max_depth = [2,4,6,8,10]\n",
    "# Minimum number of samples required to split a node\n",
    "min_samples_split = [2,4,6,8,10,15]\n",
    "# Minimum number of samples required at each leaf node\n",
    "min_samples_leaf = [1, 2, 4]\n",
    "# Method of selecting samples for training each tree\n",
    "bootstrap = [True, False]\n",
    "# Criterion\n",
    "criterion=['gini', 'entropy']\n",
    "random_grid = {'n_estimators': n_estimators,\n",
    "               'max_features': max_features,\n",
    "               'max_depth': max_depth,\n",
    "               'min_samples_split': min_samples_split,\n",
    "               'min_samples_leaf': min_samples_leaf,\n",
    "               'bootstrap': bootstrap,\n",
    "               'criterion': criterion}\n",
    "\n",
    "rf_base =  RandomForestClassifier()                                           \n",
    "rf_random = RandomizedSearchCV(estimator=rf_base,\n",
    "                               param_distributions=random_grid,\n",
    "                               )\n",
    "rf_random.fit(X_train, y_train)\n",
    "\n",
    "print('Best Parameters ')\n",
    "rf_random.best_params_"
   ]
  },
  {
   "cell_type": "code",
   "execution_count": 26,
   "id": "ebbed617",
   "metadata": {},
   "outputs": [
    {
     "name": "stdout",
     "output_type": "stream",
     "text": [
      "Scores after hyperparameter tunning\n",
      "\n",
      "Train Score 0.899528667212498\n",
      "Test Score 0.8999927714327021\n"
     ]
    }
   ],
   "source": [
    "rfc2 = RandomForestClassifier(n_estimators = 10,\n",
    "                             min_samples_split= 8,\n",
    "                             min_samples_leaf= 1,\n",
    "                             max_features= 'auto',\n",
    "                             max_depth= 10,\n",
    "                             criterion= 'entropy',\n",
    "                             bootstrap= True)\n",
    "rfc2.fit(X_train, y_train)\n",
    "print('Scores after hyperparameter tunning\\n')\n",
    "print ('Train Score', rfc2.score(X_train, y_train))\n",
    "print('Test Score', rfc2.score(X_test, y_test))"
   ]
  },
  {
   "cell_type": "markdown",
   "id": "96d7b8b7",
   "metadata": {},
   "source": [
    ">We can see that model slightly improved in the test score with the hyperparameter tunning\n",
    "\n",
    "___\n",
    "## Exercici 4\n",
    "\n",
    "Compara el seu rendiment utilitzant l’aproximació traint/test o cross-validation."
   ]
  },
  {
   "cell_type": "code",
   "execution_count": 27,
   "id": "b87feaa4",
   "metadata": {},
   "outputs": [
    {
     "name": "stdout",
     "output_type": "stream",
     "text": [
      "Logistic Regression:  0.9024149351272008\n",
      "RF Classifier:  0.899600215382119\n",
      "NN Classifier:  0.9076910594292373\n"
     ]
    }
   ],
   "source": [
    "X = robust_df.loc[:, robust_df.columns != 'ArrDelay']\n",
    "y = pd.concat([y_train,y_test])\n",
    "\n",
    "# Cross Validations & Use average accuracy as an estimate of out-of-sample accuracy\n",
    "score_a = cross_val_score(logregr, X_train, y_train, cv=5,n_jobs=-1, scoring='accuracy').mean()\n",
    "print('Logistic Regression: ', score_a)\n",
    "score_b = cross_val_score(rfc2, X_train, y_train, cv=5,n_jobs=-1, scoring='accuracy').mean()\n",
    "print('RF Classifier: ', score_b)\n",
    "score_c = cross_val_score(nn_clasif, X_train, y_train, cv=5,n_jobs=-1, scoring='accuracy').mean()\n",
    "print('NN Classifier: ', score_c)"
   ]
  },
  {
   "cell_type": "markdown",
   "id": "cdf3e21c",
   "metadata": {},
   "source": [
    "## Exercici 5\n",
    "\n",
    "Realitza algun procés d’enginyeria de variables per millorar-ne la predicció\n",
    "\n",
    "Given the fact that our aim is to Lessen accuracy instead af boosting it up.\n",
    "At this point of the study we already did:\n",
    "- Imputation : Substituting missing values for zeros\n",
    "- One-hot enconding: Getting a dummy dataframe from Unique Carriers \n",
    "- Combine variables: AverageSpeed was a by-product column made of Distance and AirTime\n"
   ]
  },
  {
   "cell_type": "code",
   "execution_count": null,
   "id": "44b5c432",
   "metadata": {},
   "outputs": [],
   "source": []
  }
 ],
 "metadata": {
  "kernelspec": {
   "display_name": "Python 3 (ipykernel)",
   "language": "python",
   "name": "python3"
  },
  "language_info": {
   "codemirror_mode": {
    "name": "ipython",
    "version": 3
   },
   "file_extension": ".py",
   "mimetype": "text/x-python",
   "name": "python",
   "nbconvert_exporter": "python",
   "pygments_lexer": "ipython3",
   "version": "3.9.7"
  }
 },
 "nbformat": 4,
 "nbformat_minor": 5
}
